{
 "cells": [
  {
   "cell_type": "markdown",
   "metadata": {},
   "source": [
    "<div align=\"right\"><font size=\"3\">\n",
    "Erica Scaduto |\n",
    "Due: May 17, 2020 </font>\n",
    "</div>\n",
    "\n",
    "<div align=\"center\"> <font size=\"5\">**STA 221: Homework 2** \n",
    " </font></div>"
   ]
  },
  {
   "cell_type": "markdown",
   "metadata": {},
   "source": [
    "**Supervised Learning Basics: 5 points** Answer true or false for each of the question below and give justiﬁcation."
   ]
  },
  {
   "cell_type": "markdown",
   "metadata": {},
   "source": [
    "(a) Gradient descent is a supervised learning algorithm. "
   ]
  },
  {
   "cell_type": "markdown",
   "metadata": {},
   "source": [
    "False"
   ]
  },
  {
   "cell_type": "markdown",
   "metadata": {},
   "source": [
    "(b) Gradient descent is an algorithm to minimize or maximize a function. "
   ]
  },
  {
   "cell_type": "markdown",
   "metadata": {},
   "source": [
    "True"
   ]
  },
  {
   "cell_type": "markdown",
   "metadata": {},
   "source": [
    "(c) Logistic regression cannot be performed after linear PCA. "
   ]
  },
  {
   "cell_type": "markdown",
   "metadata": {},
   "source": [
    "False"
   ]
  },
  {
   "cell_type": "markdown",
   "metadata": {},
   "source": [
    "(d) Support vector machine is non-linear classiﬁcation algorithm. "
   ]
  },
  {
   "cell_type": "markdown",
   "metadata": {},
   "source": [
    "False"
   ]
  },
  {
   "cell_type": "markdown",
   "metadata": {},
   "source": [
    "(e) A regression algorithm can be modiﬁed to be used for classiﬁcation as well."
   ]
  },
  {
   "cell_type": "markdown",
   "metadata": {},
   "source": [
    "True"
   ]
  },
  {
   "cell_type": "markdown",
   "metadata": {},
   "source": [
    "**Generative Adversarial Networks (7.5 Points)** In this question, you will be required to read-up certain sections from the following textbook available online at http: //www.deeplearningbook.org and https://arxiv.org/pdf/1701.00160.pdf and answer the following questions in your own words. In your earlier courses, you might have come across maximum likelihood estimation (MLE) technique. To recall, MLE is a way to estimate the parameters of any parametric density. MLE is sometime referred to as explicit generative modeling technique as we have to state the speciﬁc parametric density (for example, Gaussian) that we are using to model the given data. Often times in practice, it becomes hard to pick the right density that ﬁts/models the data at hand. A recent proposal to overcome this issue is the so-called Generative Adversarial Networks (GAN). Here a generative model is developed for the dataset at hand, implicitly. That is, no speciﬁc parametric density is assumed. This technique is called as implicit generative modeling in the literature. In this question, you are required to write a 1-page report on GANs. Speciﬁcally, answer the following:"
   ]
  },
  {
   "cell_type": "markdown",
   "metadata": {},
   "source": [
    "(a) Read section 3.13 from http://www.deeplearningbook.org/contents/prob.html. Then deﬁne and interpret Kullback-Leibler (KL) divergence in your own words. "
   ]
  },
  {
   "cell_type": "markdown",
   "metadata": {},
   "source": []
  },
  {
   "cell_type": "markdown",
   "metadata": {},
   "source": [
    "(b)  Read section 5.5 from http://www.deeplearningbook.org/contents/ml.html. What is the relationship between MLE and KL divergence ? Write in your own words. "
   ]
  },
  {
   "cell_type": "markdown",
   "metadata": {},
   "source": []
  },
  {
   "cell_type": "markdown",
   "metadata": {},
   "source": [
    "(c) Collectively summarize the issues with explicit density models from section 2.5 in https://arxiv.org/pdf/1701.00160.pdf). "
   ]
  },
  {
   "cell_type": "code",
   "execution_count": null,
   "metadata": {},
   "outputs": [],
   "source": []
  },
  {
   "cell_type": "markdown",
   "metadata": {},
   "source": [
    "(d) Read section 3.1 and 3.2 on GAN. Explain what is the main idea behind GANs in your own words. Figure 12 is helpful for this. "
   ]
  },
  {
   "cell_type": "markdown",
   "metadata": {},
   "source": []
  },
  {
   "cell_type": "markdown",
   "metadata": {},
   "source": [
    "(e) In your own viewpoint, what are three drawbacks with GANs ?"
   ]
  },
  {
   "cell_type": "code",
   "execution_count": null,
   "metadata": {},
   "outputs": [],
   "source": []
  },
  {
   "cell_type": "markdown",
   "metadata": {},
   "source": [
    "**Boston Housing Prediction: 7.5 points** In this example, you will work with the Boston Housing Data set. The goal is to predict the median value of housing based on the values of 13 covariates. In the housing train.txt ﬁle, the ﬁrst 13 columns correspond to covariate (X ∈ Rd) and the last column corresponds to median value of housing (Y ∈ R). Assume that they you are using the model\n",
    "\n",
    "Y = β>X = 13 X i=1 Xiβi"
   ]
  },
  {
   "cell_type": "code",
   "execution_count": 325,
   "metadata": {
    "scrolled": true
   },
   "outputs": [
    {
     "name": "stdout",
     "output_type": "stream",
     "text": [
      "(433, 13) (433,)\n"
     ]
    }
   ],
   "source": [
    "from sklearn.datasets import load_boston\n",
    "import pandas as pd\n",
    "# boston_dataset = load_boston()\n",
    "# column_names = boston_dataset.feature_names\n",
    "housing_train = pd.read_csv('housing_train.txt', sep='\\s+', header=None, index_col=None)\n",
    "X_train = housing_train.iloc[:, 0:13].values\n",
    "y_train = housing_train.iloc[:, 13].values\n",
    "print(X_train.shape, y_train.shape)"
   ]
  },
  {
   "cell_type": "markdown",
   "metadata": {},
   "source": [
    "a) Use linear regression on housing train.txt to estimate β (do not use housing test.txt). Calculate the mean square prediction error"
   ]
  },
  {
   "cell_type": "code",
   "execution_count": 327,
   "metadata": {},
   "outputs": [
    {
     "data": {
      "text/plain": [
       "39.58432121803993"
      ]
     },
     "execution_count": 327,
     "metadata": {},
     "output_type": "execute_result"
    }
   ],
   "source": [
    "import numpy as np\n",
    "from sklearn.linear_model import LinearRegression\n",
    "reg = LinearRegression().fit(X_train, y_train)\n",
    "reg.intercept_\n",
    "#Calculate the mean-square prediction error."
   ]
  },
  {
   "cell_type": "markdown",
   "metadata": {},
   "source": [
    "b)  Now use housing test.txt (note that this data was not used when estimating β) and the estimate for β from above to predict the housing prices in the test dataset. Calculate the mean-square prediction error."
   ]
  },
  {
   "cell_type": "code",
   "execution_count": 329,
   "metadata": {},
   "outputs": [
    {
     "name": "stdout",
     "output_type": "stream",
     "text": [
      "(74, 13) (74,)\n"
     ]
    }
   ],
   "source": [
    "housing_test = pd.read_csv('housing_test.txt', sep='\\s+', header=None, index_col=None)\n",
    "X_test = housing_test.iloc[:, 0:13].values\n",
    "y_test = housing_test.iloc[:, 13].values\n",
    "print(X_test.shape, y_test.shape)"
   ]
  },
  {
   "cell_type": "code",
   "execution_count": 330,
   "metadata": {},
   "outputs": [
    {
     "data": {
      "text/plain": [
       "16.49370175397718"
      ]
     },
     "execution_count": 330,
     "metadata": {},
     "output_type": "execute_result"
    }
   ],
   "source": [
    "reg = LinearRegression().fit(X_test, y_test)\n",
    "reg.intercept_\n",
    "# Calculate the mean-square prediction error."
   ]
  },
  {
   "cell_type": "markdown",
   "metadata": {},
   "source": [
    "c) Change the model in Question 3, to\n",
    "\n",
    "and repeat the same process in question 3. Note that this could still be considered as a linear model with data ˜ X = [X1,X2,...,X13,X2 1,X1X2,...,X2 13]. Does it give any improvement (in terms of mean squared prediction error) compared to the previous model from question 3 ?"
   ]
  },
  {
   "cell_type": "code",
   "execution_count": null,
   "metadata": {},
   "outputs": [],
   "source": []
  },
  {
   "cell_type": "code",
   "execution_count": null,
   "metadata": {},
   "outputs": [],
   "source": []
  },
  {
   "cell_type": "markdown",
   "metadata": {},
   "source": [
    "**Amazon Review Classiﬁcation: 10 points** In this question, we will take use the preprocessed Amazon review data from HW2 (in both Document-Term matrix and TF-IDF matrix representation format) to do classiﬁcation."
   ]
  },
  {
   "cell_type": "code",
   "execution_count": 181,
   "metadata": {},
   "outputs": [
    {
     "name": "stdout",
     "output_type": "stream",
     "text": [
      "odict_keys(['dat'])\n"
     ]
    },
    {
     "data": {
      "text/plain": [
       "0       My husband and I selected the Diaper \"Champ\" m...\n",
       "1       I have had a diaper genie for almost 4 years s...\n",
       "2       We loved this pail at first. The mechanism see...\n",
       "3       Bad construction is my main issue. My husband ...\n",
       "4       Diaper catches and jams in the well and that i...\n",
       "                              ...                        \n",
       "1307    Got this for a gift, not too expensive and the...\n",
       "1308    Our previous Sony monitor\\'s speaker unit was ...\n",
       "1309    Don\\'t waste your money on cheaper models. The...\n",
       "1310    I bought this monitor for my third child.  I h...\n",
       "1311    I went ahead and purchased the Sony Baby Call ...\n",
       "Name: review, Length: 1312, dtype: category\n",
       "Categories (1307, object): [, \"Sophie the Giraffe\" has tested positive for p..., \"This gate expands from 29 to 52\".  This is to..., (This is a long review, but if you read the wh..., ..., we are constantly having troubles with getting..., we bought it from amazon and had used it for o..., we bought this swing thinking that it would be..., we love so pie, she is so cute. my baby loves ...]"
      ]
     },
     "execution_count": 181,
     "metadata": {},
     "output_type": "execute_result"
    }
   ],
   "source": [
    "# conda install pyreadr \n",
    "import pyreadr\n",
    "data = pyreadr.read_r('Amazon.rdata')\n",
    "print(data.keys()) \n",
    "amazonData = data['dat']\n",
    "amazonData['review'] # access only review column "
   ]
  },
  {
   "cell_type": "code",
   "execution_count": 12,
   "metadata": {},
   "outputs": [],
   "source": [
    "from sklearn.feature_extraction.text import TfidfVectorizer\n",
    "from sklearn.feature_extraction.text import CountVectorizer \n",
    "from nltk.stem.snowball import EnglishStemmer \n",
    "from nltk.stem import SnowballStemmer\n",
    "\n",
    "stemmer = SnowballStemmer(\"english\") # changed to english based on review language\n",
    "analyzer = CountVectorizer().build_analyzer() \n",
    "\n",
    "def stemmed_words(doc): \n",
    "    return (stemmer.stem(w) for w in analyzer(doc))\n",
    "output = stemmed_words(df1.to_string())"
   ]
  },
  {
   "cell_type": "code",
   "execution_count": 52,
   "metadata": {},
   "outputs": [
    {
     "data": {
      "text/html": [
       "<div>\n",
       "<style scoped>\n",
       "    .dataframe tbody tr th:only-of-type {\n",
       "        vertical-align: middle;\n",
       "    }\n",
       "\n",
       "    .dataframe tbody tr th {\n",
       "        vertical-align: top;\n",
       "    }\n",
       "\n",
       "    .dataframe thead th {\n",
       "        text-align: right;\n",
       "    }\n",
       "</style>\n",
       "<table border=\"1\" class=\"dataframe\">\n",
       "  <thead>\n",
       "    <tr style=\"text-align: right;\">\n",
       "      <th></th>\n",
       "      <th>00</th>\n",
       "      <th>000</th>\n",
       "      <th>08</th>\n",
       "      <th>09</th>\n",
       "      <th>10</th>\n",
       "      <th>100</th>\n",
       "      <th>1000</th>\n",
       "      <th>10oz</th>\n",
       "      <th>10x</th>\n",
       "      <th>11</th>\n",
       "      <th>...</th>\n",
       "      <th>yum</th>\n",
       "      <th>yup</th>\n",
       "      <th>yuppi</th>\n",
       "      <th>zantac</th>\n",
       "      <th>zero</th>\n",
       "      <th>zip</th>\n",
       "      <th>zola</th>\n",
       "      <th>zoli</th>\n",
       "      <th>zoo</th>\n",
       "      <th>zoom</th>\n",
       "    </tr>\n",
       "  </thead>\n",
       "  <tbody>\n",
       "    <tr>\n",
       "      <td>0</td>\n",
       "      <td>0</td>\n",
       "      <td>0</td>\n",
       "      <td>0</td>\n",
       "      <td>0</td>\n",
       "      <td>0</td>\n",
       "      <td>0</td>\n",
       "      <td>0</td>\n",
       "      <td>0</td>\n",
       "      <td>0</td>\n",
       "      <td>0</td>\n",
       "      <td>...</td>\n",
       "      <td>0</td>\n",
       "      <td>0</td>\n",
       "      <td>0</td>\n",
       "      <td>0</td>\n",
       "      <td>0</td>\n",
       "      <td>0</td>\n",
       "      <td>0</td>\n",
       "      <td>0</td>\n",
       "      <td>0</td>\n",
       "      <td>0</td>\n",
       "    </tr>\n",
       "    <tr>\n",
       "      <td>1</td>\n",
       "      <td>0</td>\n",
       "      <td>0</td>\n",
       "      <td>0</td>\n",
       "      <td>0</td>\n",
       "      <td>0</td>\n",
       "      <td>0</td>\n",
       "      <td>0</td>\n",
       "      <td>0</td>\n",
       "      <td>0</td>\n",
       "      <td>0</td>\n",
       "      <td>...</td>\n",
       "      <td>0</td>\n",
       "      <td>0</td>\n",
       "      <td>0</td>\n",
       "      <td>0</td>\n",
       "      <td>0</td>\n",
       "      <td>0</td>\n",
       "      <td>0</td>\n",
       "      <td>0</td>\n",
       "      <td>0</td>\n",
       "      <td>0</td>\n",
       "    </tr>\n",
       "    <tr>\n",
       "      <td>2</td>\n",
       "      <td>0</td>\n",
       "      <td>0</td>\n",
       "      <td>0</td>\n",
       "      <td>0</td>\n",
       "      <td>0</td>\n",
       "      <td>0</td>\n",
       "      <td>0</td>\n",
       "      <td>0</td>\n",
       "      <td>0</td>\n",
       "      <td>0</td>\n",
       "      <td>...</td>\n",
       "      <td>0</td>\n",
       "      <td>0</td>\n",
       "      <td>0</td>\n",
       "      <td>0</td>\n",
       "      <td>0</td>\n",
       "      <td>0</td>\n",
       "      <td>0</td>\n",
       "      <td>0</td>\n",
       "      <td>0</td>\n",
       "      <td>0</td>\n",
       "    </tr>\n",
       "    <tr>\n",
       "      <td>3</td>\n",
       "      <td>0</td>\n",
       "      <td>0</td>\n",
       "      <td>0</td>\n",
       "      <td>0</td>\n",
       "      <td>0</td>\n",
       "      <td>0</td>\n",
       "      <td>0</td>\n",
       "      <td>0</td>\n",
       "      <td>0</td>\n",
       "      <td>0</td>\n",
       "      <td>...</td>\n",
       "      <td>0</td>\n",
       "      <td>0</td>\n",
       "      <td>0</td>\n",
       "      <td>0</td>\n",
       "      <td>0</td>\n",
       "      <td>0</td>\n",
       "      <td>0</td>\n",
       "      <td>0</td>\n",
       "      <td>0</td>\n",
       "      <td>0</td>\n",
       "    </tr>\n",
       "    <tr>\n",
       "      <td>4</td>\n",
       "      <td>0</td>\n",
       "      <td>0</td>\n",
       "      <td>0</td>\n",
       "      <td>0</td>\n",
       "      <td>0</td>\n",
       "      <td>1</td>\n",
       "      <td>0</td>\n",
       "      <td>0</td>\n",
       "      <td>0</td>\n",
       "      <td>0</td>\n",
       "      <td>...</td>\n",
       "      <td>0</td>\n",
       "      <td>0</td>\n",
       "      <td>0</td>\n",
       "      <td>0</td>\n",
       "      <td>0</td>\n",
       "      <td>0</td>\n",
       "      <td>0</td>\n",
       "      <td>0</td>\n",
       "      <td>0</td>\n",
       "      <td>0</td>\n",
       "    </tr>\n",
       "  </tbody>\n",
       "</table>\n",
       "<p>5 rows × 4137 columns</p>\n",
       "</div>"
      ],
      "text/plain": [
       "   00  000  08  09  10  100  1000  10oz  10x  11  ...  yum  yup  yuppi  \\\n",
       "0   0    0   0   0   0    0     0     0    0   0  ...    0    0      0   \n",
       "1   0    0   0   0   0    0     0     0    0   0  ...    0    0      0   \n",
       "2   0    0   0   0   0    0     0     0    0   0  ...    0    0      0   \n",
       "3   0    0   0   0   0    0     0     0    0   0  ...    0    0      0   \n",
       "4   0    0   0   0   0    1     0     0    0   0  ...    0    0      0   \n",
       "\n",
       "   zantac  zero  zip  zola  zoli  zoo  zoom  \n",
       "0       0     0    0     0     0    0     0  \n",
       "1       0     0    0     0     0    0     0  \n",
       "2       0     0    0     0     0    0     0  \n",
       "3       0     0    0     0     0    0     0  \n",
       "4       0     0    0     0     0    0     0  \n",
       "\n",
       "[5 rows x 4137 columns]"
      ]
     },
     "execution_count": 52,
     "metadata": {},
     "output_type": "execute_result"
    }
   ],
   "source": [
    "import pandas as pd\n",
    "# DocTermMatrix \n",
    "stem_vectorizer = CountVectorizer(analyzer=stemmed_words)\n",
    "DocTerm = stem_vectorizer.fit_transform(amazonData['review'])\n",
    "DTDF = pd.DataFrame(DocTerm.toarray(), columns=stem_vectorizer.get_feature_names())\n",
    "DocTermMatrix = DTDF.values\n",
    "DTDF.head()"
   ]
  },
  {
   "cell_type": "code",
   "execution_count": 53,
   "metadata": {},
   "outputs": [
    {
     "data": {
      "text/html": [
       "<div>\n",
       "<style scoped>\n",
       "    .dataframe tbody tr th:only-of-type {\n",
       "        vertical-align: middle;\n",
       "    }\n",
       "\n",
       "    .dataframe tbody tr th {\n",
       "        vertical-align: top;\n",
       "    }\n",
       "\n",
       "    .dataframe thead th {\n",
       "        text-align: right;\n",
       "    }\n",
       "</style>\n",
       "<table border=\"1\" class=\"dataframe\">\n",
       "  <thead>\n",
       "    <tr style=\"text-align: right;\">\n",
       "      <th></th>\n",
       "      <th>ability</th>\n",
       "      <th>able</th>\n",
       "      <th>about</th>\n",
       "      <th>above</th>\n",
       "      <th>absolute</th>\n",
       "      <th>absolutely</th>\n",
       "      <th>absolutly</th>\n",
       "      <th>absorb</th>\n",
       "      <th>absorbing</th>\n",
       "      <th>absorbs</th>\n",
       "      <th>...</th>\n",
       "      <th>yup</th>\n",
       "      <th>yuppie</th>\n",
       "      <th>zantac</th>\n",
       "      <th>zero</th>\n",
       "      <th>zip</th>\n",
       "      <th>zola</th>\n",
       "      <th>zoli</th>\n",
       "      <th>zoo</th>\n",
       "      <th>zoom</th>\n",
       "      <th>zooms</th>\n",
       "    </tr>\n",
       "  </thead>\n",
       "  <tbody>\n",
       "    <tr>\n",
       "      <td>0</td>\n",
       "      <td>0.0</td>\n",
       "      <td>0.000000</td>\n",
       "      <td>0.02966</td>\n",
       "      <td>0.0</td>\n",
       "      <td>0.0</td>\n",
       "      <td>0.0</td>\n",
       "      <td>0.0</td>\n",
       "      <td>0.0</td>\n",
       "      <td>0.0</td>\n",
       "      <td>0.0</td>\n",
       "      <td>...</td>\n",
       "      <td>0.0</td>\n",
       "      <td>0.0</td>\n",
       "      <td>0.0</td>\n",
       "      <td>0.0</td>\n",
       "      <td>0.0</td>\n",
       "      <td>0.0</td>\n",
       "      <td>0.0</td>\n",
       "      <td>0.0</td>\n",
       "      <td>0.0</td>\n",
       "      <td>0.0</td>\n",
       "    </tr>\n",
       "    <tr>\n",
       "      <td>1</td>\n",
       "      <td>0.0</td>\n",
       "      <td>0.075259</td>\n",
       "      <td>0.00000</td>\n",
       "      <td>0.0</td>\n",
       "      <td>0.0</td>\n",
       "      <td>0.0</td>\n",
       "      <td>0.0</td>\n",
       "      <td>0.0</td>\n",
       "      <td>0.0</td>\n",
       "      <td>0.0</td>\n",
       "      <td>...</td>\n",
       "      <td>0.0</td>\n",
       "      <td>0.0</td>\n",
       "      <td>0.0</td>\n",
       "      <td>0.0</td>\n",
       "      <td>0.0</td>\n",
       "      <td>0.0</td>\n",
       "      <td>0.0</td>\n",
       "      <td>0.0</td>\n",
       "      <td>0.0</td>\n",
       "      <td>0.0</td>\n",
       "    </tr>\n",
       "    <tr>\n",
       "      <td>2</td>\n",
       "      <td>0.0</td>\n",
       "      <td>0.000000</td>\n",
       "      <td>0.00000</td>\n",
       "      <td>0.0</td>\n",
       "      <td>0.0</td>\n",
       "      <td>0.0</td>\n",
       "      <td>0.0</td>\n",
       "      <td>0.0</td>\n",
       "      <td>0.0</td>\n",
       "      <td>0.0</td>\n",
       "      <td>...</td>\n",
       "      <td>0.0</td>\n",
       "      <td>0.0</td>\n",
       "      <td>0.0</td>\n",
       "      <td>0.0</td>\n",
       "      <td>0.0</td>\n",
       "      <td>0.0</td>\n",
       "      <td>0.0</td>\n",
       "      <td>0.0</td>\n",
       "      <td>0.0</td>\n",
       "      <td>0.0</td>\n",
       "    </tr>\n",
       "    <tr>\n",
       "      <td>3</td>\n",
       "      <td>0.0</td>\n",
       "      <td>0.000000</td>\n",
       "      <td>0.00000</td>\n",
       "      <td>0.0</td>\n",
       "      <td>0.0</td>\n",
       "      <td>0.0</td>\n",
       "      <td>0.0</td>\n",
       "      <td>0.0</td>\n",
       "      <td>0.0</td>\n",
       "      <td>0.0</td>\n",
       "      <td>...</td>\n",
       "      <td>0.0</td>\n",
       "      <td>0.0</td>\n",
       "      <td>0.0</td>\n",
       "      <td>0.0</td>\n",
       "      <td>0.0</td>\n",
       "      <td>0.0</td>\n",
       "      <td>0.0</td>\n",
       "      <td>0.0</td>\n",
       "      <td>0.0</td>\n",
       "      <td>0.0</td>\n",
       "    </tr>\n",
       "    <tr>\n",
       "      <td>4</td>\n",
       "      <td>0.0</td>\n",
       "      <td>0.000000</td>\n",
       "      <td>0.00000</td>\n",
       "      <td>0.0</td>\n",
       "      <td>0.0</td>\n",
       "      <td>0.0</td>\n",
       "      <td>0.0</td>\n",
       "      <td>0.0</td>\n",
       "      <td>0.0</td>\n",
       "      <td>0.0</td>\n",
       "      <td>...</td>\n",
       "      <td>0.0</td>\n",
       "      <td>0.0</td>\n",
       "      <td>0.0</td>\n",
       "      <td>0.0</td>\n",
       "      <td>0.0</td>\n",
       "      <td>0.0</td>\n",
       "      <td>0.0</td>\n",
       "      <td>0.0</td>\n",
       "      <td>0.0</td>\n",
       "      <td>0.0</td>\n",
       "    </tr>\n",
       "  </tbody>\n",
       "</table>\n",
       "<p>5 rows × 5806 columns</p>\n",
       "</div>"
      ],
      "text/plain": [
       "   ability      able    about  above  absolute  absolutely  absolutly  absorb  \\\n",
       "0      0.0  0.000000  0.02966    0.0       0.0         0.0        0.0     0.0   \n",
       "1      0.0  0.075259  0.00000    0.0       0.0         0.0        0.0     0.0   \n",
       "2      0.0  0.000000  0.00000    0.0       0.0         0.0        0.0     0.0   \n",
       "3      0.0  0.000000  0.00000    0.0       0.0         0.0        0.0     0.0   \n",
       "4      0.0  0.000000  0.00000    0.0       0.0         0.0        0.0     0.0   \n",
       "\n",
       "   absorbing  absorbs  ...  yup  yuppie  zantac  zero  zip  zola  zoli  zoo  \\\n",
       "0        0.0      0.0  ...  0.0     0.0     0.0   0.0  0.0   0.0   0.0  0.0   \n",
       "1        0.0      0.0  ...  0.0     0.0     0.0   0.0  0.0   0.0   0.0  0.0   \n",
       "2        0.0      0.0  ...  0.0     0.0     0.0   0.0  0.0   0.0   0.0  0.0   \n",
       "3        0.0      0.0  ...  0.0     0.0     0.0   0.0  0.0   0.0   0.0  0.0   \n",
       "4        0.0      0.0  ...  0.0     0.0     0.0   0.0  0.0   0.0   0.0  0.0   \n",
       "\n",
       "   zoom  zooms  \n",
       "0   0.0    0.0  \n",
       "1   0.0    0.0  \n",
       "2   0.0    0.0  \n",
       "3   0.0    0.0  \n",
       "4   0.0    0.0  \n",
       "\n",
       "[5 rows x 5806 columns]"
      ]
     },
     "execution_count": 53,
     "metadata": {},
     "output_type": "execute_result"
    }
   ],
   "source": [
    "#TF-IDF matrix  \n",
    "vectorizer = TfidfVectorizer(token_pattern='[a-z]{3,15}') # initiate TF-IDF vectorizer w/ token pattern \n",
    "Tfid = vectorizer.fit_transform(amazonData['review']) \n",
    "TfDF = pd.DataFrame(Tfid.toarray(), columns=vectorizer.get_feature_names())\n",
    "TfidMatrix = TfDF.values\n",
    "TfDF.head()"
   ]
  },
  {
   "cell_type": "markdown",
   "metadata": {},
   "source": [
    "**a) How many reviews of each rating value are there in the entire dataset?**"
   ]
  },
  {
   "cell_type": "code",
   "execution_count": 15,
   "metadata": {},
   "outputs": [
    {
     "name": "stdout",
     "output_type": "stream",
     "text": [
      "Total # of reviews:  1312\n",
      "Number of unique rating values:  2\n",
      "There are 656 number of reviews with rating value of '1'\n",
      "There are 656 number of reviews with rating value of '5'\n"
     ]
    }
   ],
   "source": [
    "print(\"Total # of reviews: \", len(amazonData['rating']))\n",
    "print(\"Number of unique rating values: \", len(amazonData['rating'].unique())) # How many rating values are present in the dataset ?\n",
    "\n",
    "# How many reviews of each rating value are there in the entire dataset? \n",
    "print(\"There are {} number of reviews with rating value of '1'\".format(str(len(df1[amazonData['rating'] == 1]))))\n",
    "print(\"There are {} number of reviews with rating value of '5'\".format(str(len(df1[amazonData['rating'] == 5]))))"
   ]
  },
  {
   "cell_type": "markdown",
   "metadata": {},
   "source": [
    "**Our goal is to build a classiﬁer that reads the review and classiﬁes whether the review was ”good” (rating = 5) or ”bad” (rating = 1). What is the best performance of a ”constant classiﬁer”, a classiﬁer that ignores the review and blindly assigns a constant classiﬁcation**"
   ]
  },
  {
   "cell_type": "code",
   "execution_count": 182,
   "metadata": {},
   "outputs": [
    {
     "name": "stdout",
     "output_type": "stream",
     "text": [
      "TFID constant classifier score: 0.5\n",
      "DocTerm constant classifier score: 0.5\n"
     ]
    }
   ],
   "source": [
    "# Constant Classifier \n",
    "import numpy as np\n",
    "from sklearn.dummy import DummyClassifier\n",
    "\n",
    "\n",
    "DT_clf = DummyClassifier(strategy=\"constant\", constant=1)\n",
    "DT_clf.fit(DocTermMatrix, amazonData['rating'])\n",
    "DT_clf.predict(DocTermMatrix)\n",
    "DT_score = DT_clf.score(DocTermMatrix, amazonData['rating'])\n",
    "\n",
    "TF_clf = DummyClassifier(strategy=\"constant\", constant=5)\n",
    "TF_clf.fit(TfidMatrix, amazonData['rating'])\n",
    "TF_clf.predict(TfidMatrix)\n",
    "TF_score = TF_clf.score(TfidMatrix, amazonData['rating'])\n",
    "print(\"TFID constant classifier score: {}\".format(str(TF_score)))\n",
    "print(\"DocTerm constant classifier score: {}\".format(str(DT_score)))"
   ]
  },
  {
   "cell_type": "markdown",
   "metadata": {},
   "source": [
    "**b) Now we’ll run L1-regularized logistic regression on our dataset. Split the data into two parts: the training set (which is 70%) and testing set (which is the rest). Fit a L1-regularized logistic regression model by letting python chose the regularization parameter itself.**"
   ]
  },
  {
   "cell_type": "code",
   "execution_count": 30,
   "metadata": {},
   "outputs": [],
   "source": [
    "from sklearn.linear_model import LogisticRegression\n",
    "from sklearn.model_selection import train_test_split\n",
    "from sklearn.preprocessing import StandardScaler"
   ]
  },
  {
   "cell_type": "code",
   "execution_count": 160,
   "metadata": {},
   "outputs": [
    {
     "name": "stdout",
     "output_type": "stream",
     "text": [
      "Coefficient of each feature: [[0. 0. 0. ... 0. 0. 0.]]\n",
      "Training accuracy: 0.9945533769063181\n"
     ]
    }
   ],
   "source": [
    "X = DocTermMatrix\n",
    "y = amazonData['rating']\n",
    "# Split the data into test and training sets, with 30% of samples being put into the test set\n",
    "DT_X_train, DT_X_test, DT_y_train, DT_y_test = train_test_split(X, y, test_size=0.3, random_state=0)\n",
    "dt_clf = LogisticRegression(penalty='l1', solver='liblinear')\n",
    "dt_clf.fit(DT_X_train, DT_y_train)\n",
    "print('Coefficient of each feature:', dt_clf.coef_)\n",
    "print('Training accuracy:', clf.score(DT_X_train, DT_y_train))"
   ]
  },
  {
   "cell_type": "code",
   "execution_count": 161,
   "metadata": {},
   "outputs": [
    {
     "name": "stdout",
     "output_type": "stream",
     "text": [
      "Coefficient of each feature: [[0. 0. 0. ... 0. 0. 0.]]\n",
      "Training accuracy: 0.8921568627450981\n"
     ]
    }
   ],
   "source": [
    "X = TfidMatrix\n",
    "y = amazonData['rating']\n",
    "# Split the data into test and training sets, with 30% of samples being put into the test set\n",
    "TF_X_train, TF_X_test, TF_y_train, TF_y_test = train_test_split(X, y, test_size=0.3, random_state=0)\n",
    "tf_clf = LogisticRegression(penalty='l1', solver='liblinear')\n",
    "tf_clf.fit(TF_X_train, TF_y_train)\n",
    "print('Coefficient of each feature:', tf_clf.coef_)\n",
    "print('Training accuracy:', tf_clf.score(TF_X_train, TF_y_train))"
   ]
  },
  {
   "cell_type": "markdown",
   "metadata": {},
   "source": [
    "**c) How many covariates have non-zero coeﬃcients in the model selected by python ? List the twenty words with the most positive coeﬃcients and twenty words with most negative coeﬃcients.**"
   ]
  },
  {
   "cell_type": "code",
   "execution_count": 178,
   "metadata": {},
   "outputs": [
    {
     "name": "stdout",
     "output_type": "stream",
     "text": [
      "There are 73 covariates with non-zeo coefficients for DocumentTerm \n",
      "\n",
      "The 20 Top most positive coefficient for DocumentTerm are: ['love', 'voic', 'teeth', 'great', 'those', 'soni', 'chew', 'gift', 'bath', 'easi', 'hear', 'recommend', 'sophi', 'perfect', 'grab', 'happi', 'well', 'wonder', 'other', 'pregnant'] \n",
      "\n",
      "The 20 Top most negative coefficient for DocumentTerm are: ['return', 'wast', 'four', 'won', 'less', 'until', 'not', 'stop', 'usual', 'diaper', 'them', 'review', 'after', 'useless', 'becaus', 'disappoint', 'gate', 'leak', 'husband', 'back']\n"
     ]
    }
   ],
   "source": [
    "# Document Term \n",
    "DT_coef = pd.DataFrame()\n",
    "DT_coef['Word'] = stem_vectorizer.get_feature_names()\n",
    "DT_coef['Coef'] = dt_clf.coef_.tolist()[0]\n",
    "positive_coef = DT_coef[DT_coef['Coef'] > 0]\n",
    "print(\"There are {} covariates with non-zeo coefficients for DocumentTerm \\n\".format(len(positive_coef)))\n",
    "pos20 = DT_coef.sort_values(by='Coef', ascending=False)[:20]\n",
    "print(\"The 20 Top most positive coefficient for DocumentTerm are: {} \\n\".format(pos20['Word'].tolist()))\n",
    "neg20 = DT_coef.sort_values(by='Coef', ascending=True)[:20]\n",
    "print(\"The 20 Top most negative coefficient for DocumentTerm are: {}\".format(neg20['Word'].tolist()))"
   ]
  },
  {
   "cell_type": "code",
   "execution_count": 179,
   "metadata": {},
   "outputs": [
    {
     "name": "stdout",
     "output_type": "stream",
     "text": [
      "There are 29 covariates with non-zeo coefficients for TFID \n",
      "\n",
      "The 20 Top most positive coefficient for TFID are: ['loves', 'love', 'sophie', 'teething', 'teether', 'great', 'loved', 'she', 'little', 'easy', 'toy', 'voice', 'gift', 'his', 'chew', 'sony', 'monitor', 'hear', 'static', 'her'] \n",
      "\n",
      "The 20 Top most negative coefficient for TFID are: ['not', 'after', 'diaper', 'waste', 'the', 'bottles', 'back', 'you', 'they', 'work', 'unit', 'was', 'gate', 'cup', 'stopped', 'returned', 'return', 'doesn', 'out', 'receievers']\n"
     ]
    }
   ],
   "source": [
    "# TFID \n",
    "TFID_coef = pd.DataFrame()\n",
    "TFID_coef['Word'] = vectorizer.get_feature_names()\n",
    "TFID_coef['Coef'] = tf_clf.coef_.tolist()[0]\n",
    "positive_coef = TFID_coef[TFID_coef['Coef'] > 0]\n",
    "print(\"There are {} covariates with non-zeo coefficients for TFID \\n\".format(len(positive_coef)))\n",
    "pos20 = TFID_coef.sort_values(by='Coef', ascending=False)[:20]\n",
    "print(\"The 20 Top most positive coefficient for TFID are: {} \\n\".format(pos20['Word'].tolist()))\n",
    "neg20 = TFID_coef.sort_values(by='Coef', ascending=True)[:20]\n",
    "print(\"The 20 Top most negative coefficient for TFID are: {}\".format(neg20['Word'].tolist()))"
   ]
  },
  {
   "cell_type": "markdown",
   "metadata": {},
   "source": [
    "**d) Now run the ﬁtted logisitic model on your testing data and report the misclassiﬁcation rate.**\n"
   ]
  },
  {
   "cell_type": "code",
   "execution_count": 174,
   "metadata": {},
   "outputs": [
    {
     "name": "stdout",
     "output_type": "stream",
     "text": [
      "Training accuracy: 0.8959390862944162\n",
      "Misclassification of 'BAD':  0.16751269035532995\n",
      "Misclassification of 'GOOD':  0.04060913705583756\n",
      "Total Misclassification Rate':  0.10406091370558376\n"
     ]
    }
   ],
   "source": [
    "from sklearn.metrics import confusion_matrix\n",
    "TF_y_pred = tf_clf.predict(TF_X_test)\n",
    "print('Training accuracy:', tf_clf.score(TF_X_test, TF_y_test))\n",
    "tf_cm = confusion_matrix(TF_y_test, TF_y_pred, labels = [1,5])\n",
    "\n",
    "print(\"Misclassification of 'BAD': \", tf_cm[1][0] / sum(tf_cm[1]))\n",
    "print(\"Misclassification of 'GOOD': \", tf_cm[0][1] / sum(tf_cm[0]))\n",
    "print(\"Total Misclassification Rate': \", (tf_cm[0][1] + tf_cm[1][0])  / (sum(tf_cm[0]) + sum(tf_cm[1])))\n",
    "\n",
    "# 1-clf.score(X_test, y_test)"
   ]
  },
  {
   "cell_type": "code",
   "execution_count": 175,
   "metadata": {},
   "outputs": [
    {
     "name": "stdout",
     "output_type": "stream",
     "text": [
      "Training accuracy: 0.9086294416243654\n",
      "Misclassification of 'BAD':  0.09644670050761421\n",
      "Misclassification of 'GOOD':  0.08629441624365482\n",
      "Total Misclassification Rate':  0.09137055837563451\n"
     ]
    }
   ],
   "source": [
    "DT_y_pred = dt_clf.predict(DT_X_test)\n",
    "print('Training accuracy:', dt_clf.score(DT_X_test, DT_y_test))\n",
    "dt_cm = confusion_matrix(DT_y_test,DT_y_pred, labels = [1,5])\n",
    "\n",
    "print(\"Misclassification of 'BAD': \", dt_cm[1][0] / sum(dt_cm[1]))\n",
    "print(\"Misclassification of 'GOOD': \", dt_cm[0][1] / sum(dt_cm[0]))\n",
    "print(\"Total Misclassification Rate': \", (dt_cm[0][1] + dt_cm[1][0])  / (sum(dt_cm[0]) + sum(dt_cm[1])))"
   ]
  },
  {
   "cell_type": "code",
   "execution_count": 171,
   "metadata": {},
   "outputs": [
    {
     "name": "stdout",
     "output_type": "stream",
     "text": [
      "[[189   8]\n",
      " [ 33 164]]\n"
     ]
    },
    {
     "data": {
      "image/png": "[encoded data removed]",
      "text/plain": [
       "<Figure size 432x288 with 2 Axes>"
      ]
     },
     "metadata": {},
     "output_type": "display_data"
    }
   ],
   "source": [
    "import seaborn as sns\n",
    "import matplotlib.pyplot as plt\n",
    "print(tf_cm)\n",
    "labels = ['bad', 'good']\n",
    "fig = plt.figure()\n",
    "ax = fig.add_subplot(111)\n",
    "cax = ax.matshow(tf_cm)\n",
    "plt.title('TFID: Confusion matrix')\n",
    "fig.colorbar(cax)\n",
    "ax.set_xticklabels([''] + labels)\n",
    "ax.set_yticklabels([''] + labels)\n",
    "plt.xlabel('Predicted')\n",
    "plt.ylabel('True')\n",
    "plt.show()"
   ]
  },
  {
   "cell_type": "code",
   "execution_count": 177,
   "metadata": {},
   "outputs": [
    {
     "name": "stdout",
     "output_type": "stream",
     "text": [
      "[[180  17]\n",
      " [ 19 178]]\n"
     ]
    },
    {
     "data": {
      "image/png": "[encoded data removed]",
      "text/plain": [
       "<Figure size 432x288 with 2 Axes>"
      ]
     },
     "metadata": {},
     "output_type": "display_data"
    }
   ],
   "source": [
    "print(dt_cm)\n",
    "labels = ['bad', 'good']\n",
    "fig = plt.figure()\n",
    "ax = fig.add_subplot(111)\n",
    "cax = ax.matshow(dt_cm)\n",
    "plt.title('DocuTerm: Confusion matrix')\n",
    "fig.colorbar(cax)\n",
    "ax.set_xticklabels([''] + labels)\n",
    "ax.set_yticklabels([''] + labels)\n",
    "plt.xlabel('Predicted')\n",
    "plt.ylabel('True')\n",
    "plt.show()"
   ]
  },
  {
   "cell_type": "markdown",
   "metadata": {},
   "source": [
    "**How does this compare with the “constant classiﬁer” we originally discussed before (i.e., is it better or worse)?**"
   ]
  },
  {
   "cell_type": "code",
   "execution_count": null,
   "metadata": {},
   "outputs": [],
   "source": []
  }
 ],
 "metadata": {
  "kernelspec": {
   "display_name": "Python 3",
   "language": "python",
   "name": "python3"
  },
  "language_info": {
   "codemirror_mode": {
    "name": "ipython",
    "version": 3
   },
   "file_extension": ".py",
   "mimetype": "text/x-python",
   "name": "python",
   "nbconvert_exporter": "python",
   "pygments_lexer": "ipython3",
   "version": "3.6.5"
  }
 },
 "nbformat": 4,
 "nbformat_minor": 2
}
